{
 "cells": [
  {
   "cell_type": "markdown",
   "metadata": {},
   "source": [
    "### マニュアル\n",
    "\n",
    "grant_date = 付与日を入力"
   ]
  },
  {
   "cell_type": "code",
   "execution_count": 1,
   "metadata": {},
   "outputs": [],
   "source": [
    "import os"
   ]
  },
  {
   "cell_type": "code",
   "execution_count": 2,
   "metadata": {},
   "outputs": [],
   "source": [
    "#権限付与日を設定\n",
    "grant_date = \"0716\"\n",
    "# 対象のディレクトリパスを指定\n",
    "date_directory_path = r'C:/Users/hj7724/VScode/python/Jupyter_project/ga4entity_check/data/'\n"
   ]
  },
  {
   "cell_type": "code",
   "execution_count": 3,
   "metadata": {},
   "outputs": [],
   "source": [
    "#権限付与日のフォルダーを命名\n",
    "path = os.path.join(date_directory_path,grant_date)\n",
    "#bookフォルダーを命名\n",
    "book_path = os.path.join(path,\"book\")\n",
    "#checkフォルダーを命名\n",
    "check_path = os.path.join(path,\"check\")\n",
    "#フォルダーを作成\n",
    "os.makedirs(book_path,exist_ok=True)\n",
    "os.makedirs(check_path,exist_ok=True)"
   ]
  }
 ],
 "metadata": {
  "kernelspec": {
   "display_name": "Python 3",
   "language": "python",
   "name": "python3"
  },
  "language_info": {
   "codemirror_mode": {
    "name": "ipython",
    "version": 3
   },
   "file_extension": ".py",
   "mimetype": "text/x-python",
   "name": "python",
   "nbconvert_exporter": "python",
   "pygments_lexer": "ipython3",
   "version": "3.12.6"
  }
 },
 "nbformat": 4,
 "nbformat_minor": 2
}
