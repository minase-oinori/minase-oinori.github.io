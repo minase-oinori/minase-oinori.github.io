{
 "cells": [
  {
   "cell_type": "markdown",
   "metadata": {},
   "source": [
    "### マニュアル\n",
    "\n",
    "・make_folder_grant_date.ipynbを実行する<br>\n",
    "<br>\n",
    "・すべてを実行\n",
    "\n"
   ]
  },
  {
   "cell_type": "code",
   "execution_count": 90,
   "metadata": {},
   "outputs": [],
   "source": [
    "import numpy as np\n",
    "import pandas as pd\n",
    "import os\n",
    "import glob\n",
    "import openpyxl\n",
    "import xlrd"
   ]
  },
  {
   "cell_type": "code",
   "execution_count": 91,
   "metadata": {},
   "outputs": [
    {
     "name": "stdout",
     "output_type": "stream",
     "text": [
      "Grant Date: 0716\n"
     ]
    }
   ],
   "source": [
    "\n",
    "# 対象のディレクトリパスを指定\n",
    "date_directory_path = r'C:/Users/hj7724/VScode/python/Jupyter_project/ga4entity_check/data/'\n",
    "# ディレクトリ内のフォルダー名を取得\n",
    "date_folder_list = [name for name in os.listdir(date_directory_path) if os.path.isdir(os.path.join(date_directory_path, name))]\n",
    "\n",
    "if date_folder_list:\n",
    "    grant_date = max(date_folder_list)\n",
    "    print(f'Grant Date: {grant_date}')"
   ]
  },
  {
   "cell_type": "code",
   "execution_count": 92,
   "metadata": {},
   "outputs": [],
   "source": [
    "#新たなデータフレームを作成\n",
    "columns = ['client','mail', 'propety', 'num_propety', 'name_propety']\n",
    "all_book = pd.DataFrame(columns=columns)"
   ]
  },
  {
   "cell_type": "code",
   "execution_count": 93,
   "metadata": {},
   "outputs": [
    {
     "name": "stdout",
     "output_type": "stream",
     "text": [
      "['20250709_佐藤様.xlsx', '20250709_濱中様.xlsx', '20250710_大下倉様.xlsx', '20250711_今村様.xlsx', '20250711_笹子様.xlsx', '20250714_千村様.xlsx', '20250714_沖様.xlsx', '20250715_三瓶様.xlsx', '20250715_平様.xlsx', '20250715_鎌田様.xlsx', '20250716_合田様.xlsx', '20250716_吉田様.xlsx']\n"
     ]
    }
   ],
   "source": [
    "#付与日フォルダのディレクトリ指定\n",
    "path = \"C:/Users/hj7724/VScode/python/Jupyter_project/ga4entity_check/data/{grant_date}\".format(grant_date = grant_date)\n",
    "\n",
    "# bookフォルダのパスを作成\n",
    "book_path = os.path.join(path, \"book\")\n",
    "\n",
    "# bookフォルダ内のExcelファイル名をリストで取得\n",
    "xlsx_file_list = [os.path.basename(f) for f in glob.glob(os.path.join(book_path, \"*.xlsx\"))]\n",
    "\n",
    "# 結果の表示\n",
    "print(xlsx_file_list)\n"
   ]
  },
  {
   "cell_type": "code",
   "execution_count": 94,
   "metadata": {},
   "outputs": [],
   "source": [
    "# not_cip_filename を空の集合として初期化\n",
    "not_cip_filename = []"
   ]
  },
  {
   "cell_type": "code",
   "execution_count": 95,
   "metadata": {},
   "outputs": [],
   "source": [
    "def make_all_book(file, num, book_path, all_book,not_cip_filename):\n",
    "    # Excelファイル名を取得\n",
    "    xlsx_name = file[num]\n",
    "\n",
    "    # ファイル名から名前を抽出（数字_名前.xlsx の形式を前提）\n",
    "    client_name = xlsx_name.split('_')[1].replace('.xlsx', '')\n",
    "\n",
    "    # Excelファイルを開く\n",
    "    excel_path = os.path.join(book_path, xlsx_name)\n",
    "    data = pd.read_excel(excel_path, sheet_name=\"依頼用シート\")\n",
    "\n",
    "    # Pandasデータフレームに変換\n",
    "    df = pd.DataFrame(data)\n",
    "    \n",
    "    # 4行目以降を取得\n",
    "    df = df[3:]\n",
    "    \n",
    "    # F列とH列を取り出す\n",
    "    df = df.iloc[:, [5, 7]]\n",
    "    \n",
    "    # 列名を変更（F列を 'mail' に、H列を 'propety' に変更）\n",
    "    df.columns = ['mail', 'propety']\n",
    "    \n",
    "    # 最下行の'end'を削除\n",
    "    df = df.dropna(how='all').replace('end', np.nan).dropna(how='all')\n",
    "\n",
    "    # データフレームを整形\n",
    "    new_rows = []\n",
    "    for index, row in df.iterrows():\n",
    "        name = row['mail']\n",
    "        items = row['propety'].split('\\n')\n",
    "        for item in items:\n",
    "            new_rows.append({'mail': name, 'propety': item})\n",
    "\n",
    "    df = pd.DataFrame(new_rows)\n",
    "    \n",
    "    # プロパティ名を分割\n",
    "    df[['num_propety', 'name_propety']] = df['propety'].str.extract(r'(\\d{3,4})_(.+)')\n",
    "    \n",
    "    # num_propety列を数値型に変換\n",
    "    df['num_propety'] = pd.to_numeric(df['num_propety'], errors='coerce')\n",
    "\n",
    "    # client列を追加し、値を設定（ファイル名から抽出した名前）\n",
    "    df.insert(0, 'client', client_name)\n",
    "    print(xlsx_name)\n",
    "\n",
    "    ########\n",
    "    # メールアドレスのドメインチェック\n",
    "    allowed_domain = 'kddi-ga.auone.jp'\n",
    "    different_domain = df['mail'].apply(lambda x: x.split('@')[1] != allowed_domain)\n",
    "\n",
    "    if any(different_domain):\n",
    "        print(f\"CIPアカウント以外のアカウントが含まれています。対象ファイルは、{xlsx_name}です。\")\n",
    "        not_cip_filename.append({xlsx_name})\n",
    "        return [all_book,not_cip_filename]\n",
    "    else:\n",
    "        all_book = pd.concat([all_book, df], ignore_index=True)\n",
    "        return [all_book,not_cip_filename]\n",
    "    ##############\n",
    "    \n",
    "    # 全体のデータフレームに追加\n",
    "    #all_book = pd.concat([all_book, df], ignore_index=True)\n",
    "    \n",
    "    #return all_book"
   ]
  },
  {
   "cell_type": "code",
   "execution_count": 96,
   "metadata": {},
   "outputs": [
    {
     "name": "stdout",
     "output_type": "stream",
     "text": [
      "20250709_佐藤様.xlsx\n",
      "20250709_濱中様.xlsx\n",
      "20250710_大下倉様.xlsx\n",
      "20250711_今村様.xlsx\n",
      "20250711_笹子様.xlsx\n",
      "20250714_千村様.xlsx\n",
      "20250714_沖様.xlsx\n",
      "20250715_三瓶様.xlsx\n",
      "20250715_平様.xlsx\n",
      "20250715_鎌田様.xlsx\n",
      "20250716_合田様.xlsx\n",
      "20250716_吉田様.xlsx\n"
     ]
    }
   ],
   "source": [
    "# 関数を呼び出して処理を実行\n",
    "# 例えば、num=0 の時に関数を呼び出すとしたら以下のように\n",
    "#all_book = make_all_book(xlsx_file_list, 0, book_path, all_book)\n",
    "#for文でmake_all_book関数を回す\n",
    "# excel_file_list内のすべてのファイルに対してmake_all_book関数を実行\n",
    "\n",
    "for num in range(len(xlsx_file_list)):\n",
    "    #make_all_book(xlsx_file_list, num, book_path, all_book,not_cip_filename)\n",
    "    [all_book,not_cip_filename] = make_all_book(xlsx_file_list, num, book_path, all_book,not_cip_filename)\n",
    "    #not_cip_filename = make_all_book(xlsx_file_list, num, book_path, all_book,not_cip_filename)[1]\n",
    "\n",
    "# client列とnum_propety列でソート\n",
    "all_book = all_book.sort_values(by=['client', 'num_propety']).reset_index(drop=True)"
   ]
  },
  {
   "cell_type": "code",
   "execution_count": 97,
   "metadata": {},
   "outputs": [],
   "source": [
    "print_not_cip_filename = str(not_cip_filename)[1:-1]"
   ]
  },
  {
   "cell_type": "code",
   "execution_count": 98,
   "metadata": {},
   "outputs": [],
   "source": [
    "# client列とnum_propety列でソート\n",
    "all_book = all_book.sort_values(by=['client', 'num_propety']).reset_index(drop=True)"
   ]
  },
  {
   "cell_type": "code",
   "execution_count": 99,
   "metadata": {},
   "outputs": [
    {
     "name": "stdout",
     "output_type": "stream",
     "text": [
      "Excel file saved successfully at C:/Users/hj7724/VScode/python/Jupyter_project/ga4entity_check/data/0716\\all_book_0716.xlsx\n"
     ]
    }
   ],
   "source": [
    "#CIPアカウント以外が含まれる場合アラートを出す\n",
    "# 特定のドメイン\n",
    "#allowed_domain = 'kddi-ga.auone.jp'\n",
    "# フィルタリング条件\n",
    "#different_domain = all_book['mail'].apply(lambda x: x.split('@')[1] != allowed_domain)\n",
    "# フィルタリング結果の検出\n",
    "if len(not_cip_filename) != 0:\n",
    "    print(\"CIPアカウント以外のアカウントが含まれています。CIPアカウント以外が含まれている申請書は、{name}です。\".format(name = print_not_cip_filename))\n",
    "else:\n",
    "    # all_bookをExcelファイルとして保存する\n",
    "    save_path = os.path.join(path, 'all_book_{grant_date}.xlsx'.format(grant_date = grant_date))\n",
    "    all_book.to_excel(save_path, index=False)\n",
    "    # 保存完了メッセージ\n",
    "    print(f\"Excel file saved successfully at {save_path}\")\n"
   ]
  },
  {
   "cell_type": "code",
   "execution_count": 100,
   "metadata": {},
   "outputs": [],
   "source": [
    "#csvファイルが必要なプロパティ一覧\n",
    "all_book['propety'].unique()\n",
    "all_propety = pd.DataFrame(all_book['propety'].unique())"
   ]
  },
  {
   "cell_type": "code",
   "execution_count": 101,
   "metadata": {},
   "outputs": [],
   "source": [
    "save_path = os.path.join(path, 'all_property_{grant_date}.xlsx'.format(grant_date = grant_date))\n",
    "all_propety.to_excel(save_path, index=False)"
   ]
  },
  {
   "cell_type": "code",
   "execution_count": 102,
   "metadata": {},
   "outputs": [],
   "source": [
    "# all_propetyをExcelファイルとして保存する\n",
    "#save_path = os.path.join(path, 'all_propety_{grant_date}.xlsx'.format(grant_date = grant_date))\n",
    "#all_propety.to_excel(save_path, index=False)\n",
    "\n",
    "# 保存完了メッセージ\n",
    "#print(f\"Excel file saved successfully at {save_path}\")"
   ]
  }
 ],
 "metadata": {
  "kernelspec": {
   "display_name": "Python 3",
   "language": "python",
   "name": "python3"
  },
  "language_info": {
   "codemirror_mode": {
    "name": "ipython",
    "version": 3
   },
   "file_extension": ".py",
   "mimetype": "text/x-python",
   "name": "python",
   "nbconvert_exporter": "python",
   "pygments_lexer": "ipython3",
   "version": "3.12.6"
  }
 },
 "nbformat": 4,
 "nbformat_minor": 2
}
