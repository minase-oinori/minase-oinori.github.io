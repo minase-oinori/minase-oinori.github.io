{
 "cells": [
  {
   "cell_type": "code",
   "execution_count": 49,
   "metadata": {},
   "outputs": [],
   "source": [
    "import numpy as np\n",
    "import pandas as pd\n",
    "import os\n",
    "import glob\n",
    "import openpyxl\n",
    "import xlrd"
   ]
  },
  {
   "cell_type": "code",
   "execution_count": 50,
   "metadata": {},
   "outputs": [
    {
     "name": "stdout",
     "output_type": "stream",
     "text": [
      "Grant Date: 0716\n"
     ]
    }
   ],
   "source": [
    "# 対象のディレクトリパスを指定\n",
    "date_directory_path = r'C:/Users/hj7724/VScode/python/Jupyter_project/ga4entity_check/data/'\n",
    "\n",
    "# ディレクトリ内のフォルダー名を取得\n",
    "date_folder_list = [name for name in os.listdir(date_directory_path) if os.path.isdir(os.path.join(date_directory_path, name))]\n",
    "\n",
    "if date_folder_list:\n",
    "    grant_date = max(date_folder_list)\n",
    "    print(f'Grant Date: {grant_date}')"
   ]
  },
  {
   "cell_type": "code",
   "execution_count": 51,
   "metadata": {},
   "outputs": [],
   "source": [
    "#付与日フォルダのディレクトリ指定\n",
    "path = \"C:/Users/hj7724/VScode/python/Jupyter_project/ga4entity_check/data/{grant_date}\".format(grant_date = grant_date)\n",
    "\n",
    "#all_bookとしてmake_all_bookで作成したファイルを取得\n",
    "all_book = pd.read_excel(path + '/all_book_{grant_date}.xlsx'.format(grant_date = grant_date))"
   ]
  },
  {
   "cell_type": "code",
   "execution_count": 52,
   "metadata": {},
   "outputs": [
    {
     "name": "stdout",
     "output_type": "stream",
     "text": [
      "['entity_access_20250716_501.csv', 'entity_access_20250716_509.csv', 'entity_access_20250716_523.csv', 'entity_access_20250716_524.csv', 'entity_access_20250716_525.csv', 'entity_access_20250716_533.csv', 'entity_access_20250716_550.csv', 'entity_access_20250716_551.csv', 'entity_access_20250716_552.csv', 'entity_access_20250716_553.csv', 'entity_access_20250716_555.csv', 'entity_access_20250716_556.csv', 'entity_access_20250716_557.csv', 'entity_access_20250716_560.csv', 'entity_access_20250716_568.csv', 'entity_access_20250716_573.csv', 'entity_access_20250716_574.csv', 'entity_access_20250716_579.csv', 'entity_access_20250716_581.csv', 'entity_access_20250716_582.csv', 'entity_access_20250716_596.csv', 'entity_access_20250716_597.csv', 'entity_access_20250716_599.csv', 'entity_access_20250716_600.csv', 'entity_access_20250716_606.csv', 'entity_access_20250716_612.csv', 'entity_access_20250716_614.csv', 'entity_access_20250716_615.csv', 'entity_access_20250716_619.csv', 'entity_access_20250716_624.csv', 'entity_access_20250716_628.csv', 'entity_access_20250716_629.csv', 'entity_access_20250716_648.csv', 'entity_access_20250716_652.csv', 'entity_access_20250716_653.csv', 'entity_access_20250716_654.csv', 'entity_access_20250716_655.csv', 'entity_access_20250716_657.csv', 'entity_access_20250716_658.csv', 'entity_access_20250716_659.csv', 'entity_access_20250716_660.csv', 'entity_access_20250716_661.csv', 'entity_access_20250716_662.csv', 'entity_access_20250716_663.csv', 'entity_access_20250716_664.csv', 'entity_access_20250716_665.csv', 'entity_access_20250716_666.csv', 'entity_access_20250716_667.csv', 'entity_access_20250716_668.csv', 'entity_access_20250716_669.csv', 'entity_access_20250716_671.csv', 'entity_access_20250716_677.csv', 'entity_access_20250716_690.csv', 'entity_access_20250716_694.csv', 'entity_access_20250716_700.csv', 'entity_access_20250716_702.csv', 'entity_access_20250716_706.csv', 'entity_access_20250716_9510.csv', 'entity_access_20250716_9512.csv', 'entity_access_20250716_9527.csv', 'entity_access_20250716_9549.csv', 'entity_access_20250716_9550.csv', 'entity_access_20250716_9555.csv', 'entity_access_20250716_9556.csv', 'entity_access_20250716_9564.csv', 'entity_access_20250716_9580.csv', 'entity_access_20250716_9581.csv', 'entity_access_20250716_9602.csv', 'entity_access_20250716_9603.csv', 'entity_access_20250716_9604.csv', 'entity_access_20250716_9612.csv', 'entity_access_20250716_9618.csv', 'entity_access_20250716_9623.csv', 'entity_access_20250716_9627.csv', 'entity_access_20250716_9633.csv', 'entity_access_20250716_9711.csv', 'entity_access_20250716_9721.csv']\n"
     ]
    }
   ],
   "source": [
    "# checkフォルダのパスを作成\n",
    "check_path = os.path.join(path, \"check\")\n",
    "# checkフォルダ内のExcelファイル名をリストで取得\n",
    "csv_file_list = [os.path.basename(f) for f in glob.glob(os.path.join(check_path, \"*.csv\"))]\n",
    "\n",
    "# 結果の表示\n",
    "print(csv_file_list)"
   ]
  },
  {
   "cell_type": "code",
   "execution_count": 53,
   "metadata": {},
   "outputs": [],
   "source": [
    "#ディレクトリを移動\n",
    "os.chdir(check_path)\n",
    "#メールリストのcsvを辞書形式に作る関数\n",
    "def make_entity_dict(file_names):\n",
    "    # 結果を格納する辞書\n",
    "    entity_dict = {}\n",
    "\n",
    "    # 各ファイルに対して操作を行う\n",
    "    for file_name in file_names:\n",
    "        # CSVファイルを読み込む\n",
    "        df = pd.read_csv(file_name)\n",
    "\n",
    "        # メール列だけを残して他の列を削除する\n",
    "        df = df[['メール']]\n",
    "\n",
    "        # ファイル名からプロパティの数字を抽出\n",
    "        propety_value = os.path.basename(file_name).split('_')[3].replace('.csv', '')\n",
    "\n",
    "        # 新たに'プロパティ'列を追加して、抽出した数字を格納する\n",
    "        df['プロパティ'] = propety_value\n",
    "\n",
    "        # 新しいデータフレームの名前を作成\n",
    "        new_df_name = f'entity_{propety_value}'\n",
    "\n",
    "        # データフレームを辞書に格納\n",
    "        entity_dict[new_df_name] = df\n",
    "    \n",
    "    return entity_dict"
   ]
  },
  {
   "cell_type": "code",
   "execution_count": 54,
   "metadata": {},
   "outputs": [],
   "source": [
    "entity_dict = make_entity_dict(csv_file_list)"
   ]
  },
  {
   "cell_type": "code",
   "execution_count": 55,
   "metadata": {},
   "outputs": [],
   "source": [
    "#申請書のメールアドレスが含まれるか確認する関数\n",
    "def check_email(row):\n",
    "    num_propety = str(row['num_propety'])  # num_propety を文字列として扱う\n",
    "    mail = row['mail']\n",
    "\n",
    "    # データフレームの名前を作成\n",
    "    df_name = f'entity_{num_propety}'\n",
    "\n",
    "    # 該当するデータフレームが存在するかチェック\n",
    "    if df_name in entity_dict:\n",
    "        entity_df = entity_dict[df_name]\n",
    "        # メールアドレスが含まれているかチェック\n",
    "        return mail in entity_df['メール'].values\n",
    "    return False  # デフォルトはFalseとする\n"
   ]
  },
  {
   "cell_type": "code",
   "execution_count": 56,
   "metadata": {},
   "outputs": [],
   "source": [
    "# all_bookの各行に対してcheck列を設定\n",
    "all_book['check'] = all_book.apply(check_email, axis=1)"
   ]
  },
  {
   "cell_type": "code",
   "execution_count": 57,
   "metadata": {},
   "outputs": [
    {
     "name": "stdout",
     "output_type": "stream",
     "text": [
      "Excel file saved successfully at C:/Users/hj7724/VScode/python/Jupyter_project/ga4entity_check/data/0716\\all_book_check_0716.xlsx\n"
     ]
    }
   ],
   "source": [
    "# all_bookをExcelファイルとして保存する\n",
    "save_path = os.path.join(path, 'all_book_check_{grant_date}.xlsx'.format(grant_date = grant_date))\n",
    "all_book.to_excel(save_path, index=False)\n",
    "\n",
    "# 保存完了メッセージ\n",
    "print(f\"Excel file saved successfully at {save_path}\")"
   ]
  }
 ],
 "metadata": {
  "kernelspec": {
   "display_name": "Python 3",
   "language": "python",
   "name": "python3"
  },
  "language_info": {
   "codemirror_mode": {
    "name": "ipython",
    "version": 3
   },
   "file_extension": ".py",
   "mimetype": "text/x-python",
   "name": "python",
   "nbconvert_exporter": "python",
   "pygments_lexer": "ipython3",
   "version": "3.12.6"
  }
 },
 "nbformat": 4,
 "nbformat_minor": 2
}
