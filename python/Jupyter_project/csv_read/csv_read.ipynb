{
 "cells": [
  {
   "cell_type": "code",
   "execution_count": 15,
   "metadata": {},
   "outputs": [],
   "source": [
    "import numpy as np\n",
    "import pandas as pd\n",
    "import os\n",
    "import glob\n",
    "import openpyxl\n",
    "import xlrd"
   ]
  },
  {
   "cell_type": "code",
   "execution_count": 16,
   "metadata": {},
   "outputs": [],
   "source": [
    "#ファイル名\n",
    "file_name = \"entity_access_20250226_508\"\n",
    "# 対象のディレクトリパスを指定\n",
    "csvdate_directory_path = r'C:/Users/hj7724/python/Jupyter_project/csv_read/data_csv/'\n",
    "csvfile_path = os.path.join(csvdate_directory_path, '{file_name}.csv'.format(file_name=file_name))\n",
    "file = pd.read_csv(csvfile_path)"
   ]
  },
  {
   "cell_type": "code",
   "execution_count": 17,
   "metadata": {},
   "outputs": [
    {
     "name": "stdout",
     "output_type": "stream",
     "text": [
      "Excel file saved successfully at C:/Users/hj7724/python/Jupyter_project/csv_read/data/entity_access_20250226_508.xlsx\n"
     ]
    }
   ],
   "source": [
    "# all_bookをExcelファイルとして保存する\n",
    "xlsxdate_directory_path = r'C:/Users/hj7724/python/Jupyter_project/csv_read/data_xlsx/'\n",
    "xlsxsave_path = os.path.join(xlsxdate_directory_path, '{file_name}.xlsx'.format(file_name = file_name))\n",
    "file.to_excel(xlsxsave_path, index=False)\n",
    "# 保存完了メッセージ\n",
    "print(f\"Excel file saved successfully at {save_path}\")"
   ]
  }
 ],
 "metadata": {
  "kernelspec": {
   "display_name": "Python 3",
   "language": "python",
   "name": "python3"
  },
  "language_info": {
   "codemirror_mode": {
    "name": "ipython",
    "version": 3
   },
   "file_extension": ".py",
   "mimetype": "text/x-python",
   "name": "python",
   "nbconvert_exporter": "python",
   "pygments_lexer": "ipython3",
   "version": "3.12.6"
  }
 },
 "nbformat": 4,
 "nbformat_minor": 2
}
